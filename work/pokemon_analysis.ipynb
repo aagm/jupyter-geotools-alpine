{
 "cells": [
  {
   "cell_type": "markdown",
   "metadata": {},
   "source": [
    "# Data Science notebook example\n",
    "\n",
    "Welcome! Let's import some data and do some light analysis. Let's talk Pokémon. Pokémon is the history of a homeless preteen who forces his cute-looking animals to viciously against each other. Despite the dark nature of the history, it's enjoyed by many people around the world –children and adults alike. And some nerds have compiled the data in a public github repo!\n",
    "\n",
    "## Initial stuff\n",
    "\n",
    "We'll begin by importing the `csv` and  `requests` library and we'll get some data from the repo."
   ]
  },
  {
   "cell_type": "code",
   "execution_count": null,
   "metadata": {
    "collapsed": false
   },
   "outputs": [],
   "source": [
    "%matplotlib inline\n",
    "\n",
    "import csv\n",
    "import requests\n",
    "\n",
    "CSV_URL = 'https://raw.githubusercontent.com/veekun/pokedex/master/pokedex/data/csv/pokemon.csv'\n",
    "\n",
    "with requests.Session() as s:\n",
    "    download = s.get(CSV_URL)\n",
    "\n",
    "    decoded_content = download.content.decode('utf-8')\n",
    "\n",
    "    content_reader = csv.reader(decoded_content.splitlines(), delimiter=',')\n",
    "    pokemon_list = list(content_reader)\n",
    "    # print(pokemon_list)"
   ]
  },
  {
   "cell_type": "markdown",
   "metadata": {},
   "source": [
    "Now we have a nested array with pokemon properties. Let's just plot some properties against each other.\n",
    "\n",
    "First we'll need a visualization library. I favor seaborn."
   ]
  },
  {
   "cell_type": "code",
   "execution_count": null,
   "metadata": {
    "collapsed": false
   },
   "outputs": [],
   "source": [
    "import seaborn"
   ]
  },
  {
   "cell_type": "markdown",
   "metadata": {},
   "source": [
    "I also like to use `numpy` matrixes rather than pandas datasets."
   ]
  },
  {
   "cell_type": "code",
   "execution_count": null,
   "metadata": {
    "collapsed": false
   },
   "outputs": [],
   "source": [
    "import numpy as np"
   ]
  },
  {
   "cell_type": "markdown",
   "metadata": {},
   "source": [
    "I'll put the 150 first Pokémon data into a matrix."
   ]
  },
  {
   "cell_type": "code",
   "execution_count": null,
   "metadata": {
    "collapsed": false
   },
   "outputs": [],
   "source": [
    "pokemon_matrix = np.array(pokemon_list[0:151])\n",
    "print(pokemon_matrix)"
   ]
  },
  {
   "cell_type": "markdown",
   "metadata": {},
   "source": [
    "Let's take note of the variable names"
   ]
  },
  {
   "cell_type": "code",
   "execution_count": null,
   "metadata": {
    "collapsed": false
   },
   "outputs": [],
   "source": [
    "variable_names = pokemon_matrix[0,:]\n",
    "#print(variable_names)"
   ]
  },
  {
   "cell_type": "markdown",
   "metadata": {},
   "source": [
    "And save the names for later. I might want to add a tooltip or something."
   ]
  },
  {
   "cell_type": "code",
   "execution_count": null,
   "metadata": {
    "collapsed": false
   },
   "outputs": [],
   "source": [
    "pokemon_names = pokemon_matrix[1:,1]\n",
    "#print(pokemon_names)"
   ]
  },
  {
   "cell_type": "markdown",
   "metadata": {},
   "source": [
    "The interesting data is all integers, so we have to take care of setting the dtype correctly:"
   ]
  },
  {
   "cell_type": "code",
   "execution_count": null,
   "metadata": {
    "collapsed": false
   },
   "outputs": [],
   "source": [
    "pokemon_data = np.array(pokemon_matrix[1:,2:], dtype=int)"
   ]
  },
  {
   "cell_type": "markdown",
   "metadata": {},
   "source": [
    "We can finally plot height vs weight."
   ]
  },
  {
   "cell_type": "code",
   "execution_count": null,
   "metadata": {
    "collapsed": false
   },
   "outputs": [],
   "source": [
    "seaborn.jointplot(\n",
    "    x = pokemon_data[:,4], # weight\n",
    "    y = pokemon_data[:,3], # height\n",
    "    kind=\"reg\"\n",
    ").set_axis_labels(\"Weight\", \"Height\")"
   ]
  },
  {
   "cell_type": "code",
   "execution_count": null,
   "metadata": {
    "collapsed": true
   },
   "outputs": [],
   "source": []
  }
 ],
 "metadata": {
  "kernelspec": {
   "display_name": "Python 3",
   "language": "python",
   "name": "python3"
  },
  "language_info": {
   "codemirror_mode": {
    "name": "ipython",
    "version": 3
   },
   "file_extension": ".py",
   "mimetype": "text/x-python",
   "name": "python",
   "nbconvert_exporter": "python",
   "pygments_lexer": "ipython3",
   "version": "3.5.2"
  }
 },
 "nbformat": 4,
 "nbformat_minor": 2
}
