{
 "cells": [
  {
   "cell_type": "markdown",
   "metadata": {},
   "source": []
  },
  {
   "cell_type": "code",
   "execution_count": 14,
   "metadata": {
    "collapsed": true
   },
   "outputs": [],
   "source": [
    "sourceUrl = '/home/jovyan/work/data/gfw/data_source/'\n",
    "test = '/home/jovyan/work/data/gfw/data_source/april_2016.csv'"
   ]
  },
  {
   "cell_type": "code",
   "execution_count": 10,
   "metadata": {
    "collapsed": true
   },
   "outputs": [],
   "source": [
    "import pandas as pd"
   ]
  },
  {
   "cell_type": "code",
   "execution_count": 11,
   "metadata": {
    "collapsed": false
   },
   "outputs": [
    {
     "data": {
      "application/json": {
       "Software versions": [
        {
         "module": "Python",
         "version": "3.5.2 64bit [GCC 4.4.7 20120313 (Red Hat 4.4.7-1)]"
        },
        {
         "module": "IPython",
         "version": "5.2.2"
        },
        {
         "module": "OS",
         "version": "Linux 4.9.8 moby x86_64 with glibc2.2.5"
        },
        {
         "module": "pandas",
         "version": "0.19.2"
        },
        {
         "module": "re",
         "version": "2.2.1"
        }
       ]
      },
      "text/html": [
       "<table><tr><th>Software</th><th>Version</th></tr><tr><td>Python</td><td>3.5.2 64bit [GCC 4.4.7 20120313 (Red Hat 4.4.7-1)]</td></tr><tr><td>IPython</td><td>5.2.2</td></tr><tr><td>OS</td><td>Linux 4.9.8 moby x86_64 with glibc2.2.5</td></tr><tr><td>pandas</td><td>0.19.2</td></tr><tr><td>re</td><td>2.2.1</td></tr><tr><td colspan='2'>Wed Feb 22 21:44:27 2017 UTC</td></tr></table>"
      ],
      "text/latex": [
       "\\begin{tabular}{|l|l|}\\hline\n",
       "{\\bf Software} & {\\bf Version} \\\\ \\hline\\hline\n",
       "Python & 3.5.2 64bit [GCC 4.4.7 20120313 (Red Hat 4.4.7-1)] \\\\ \\hline\n",
       "IPython & 5.2.2 \\\\ \\hline\n",
       "OS & Linux 4.9.8 moby x86\\_64 with glibc2.2.5 \\\\ \\hline\n",
       "pandas & 0.19.2 \\\\ \\hline\n",
       "re & 2.2.1 \\\\ \\hline\n",
       "\\hline \\multicolumn{2}{|l|}{Wed Feb 22 21:44:27 2017 UTC} \\\\ \\hline\n",
       "\\end{tabular}\n"
      ],
      "text/plain": [
       "Software versions\n",
       "Python 3.5.2 64bit [GCC 4.4.7 20120313 (Red Hat 4.4.7-1)]\n",
       "IPython 5.2.2\n",
       "OS Linux 4.9.8 moby x86_64 with glibc2.2.5\n",
       "pandas 0.19.2\n",
       "re 2.2.1\n",
       "Wed Feb 22 21:44:27 2017 UTC"
      ]
     },
     "execution_count": 11,
     "metadata": {},
     "output_type": "execute_result"
    }
   ],
   "source": [
    "%reload_ext version_information\n",
    "%version_information pandas, re"
   ]
  },
  {
   "cell_type": "code",
   "execution_count": 13,
   "metadata": {
    "collapsed": false
   },
   "outputs": [
    {
     "name": "stdout",
     "output_type": "stream",
     "text": [
      "   year  month                                               Page  Pageviews  \\\n",
      "0  2016      4  /map/3/15.00/27.00/ALL/grayscale/loss,forestga...        340   \n",
      "1  2016      4  /map/5/17.89/92.30/ALL/grayscale/loss,forestga...        150   \n",
      "2  2016      4  /map/3/15.00/27.00/ALL/grayscale/loss,forestga...        119   \n",
      "3  2016      4  /map/3/30.32/-37.78/ALL/grayscale/loss,forestg...         97   \n",
      "4  2016      4  /map/3/15.00/27.00/ALL/grayscale/loss,forestga...         95   \n",
      "\n",
      "   Unique Pageviews Avg. Time on Page Bounce Rate  % Exit  Unnamed: 8  \\\n",
      "0               311           0:13:14       3.31%  68.53%         NaN   \n",
      "1               145           0:10:30       0.00%  75.33%         NaN   \n",
      "2               109           0:16:28       8.62%  78.15%         NaN   \n",
      "3                87           0:24:27       0.00%  80.41%         NaN   \n",
      "4                91           0:09:47       4.17%  76.84%         NaN   \n",
      "\n",
      "   Unnamed: 9  \n",
      "0         NaN  \n",
      "1         NaN  \n",
      "2         NaN  \n",
      "3         NaN  \n",
      "4         NaN  \n"
     ]
    }
   ],
   "source": [
    "print(pd.read_csv(test).head());\n"
   ]
  },
  {
   "cell_type": "code",
   "execution_count": null,
   "metadata": {
    "collapsed": true
   },
   "outputs": [],
   "source": []
  }
 ],
 "metadata": {
  "kernelspec": {
   "display_name": "Python 3",
   "language": "python",
   "name": "python3"
  },
  "language_info": {
   "codemirror_mode": {
    "name": "ipython",
    "version": 3
   },
   "file_extension": ".py",
   "mimetype": "text/x-python",
   "name": "python",
   "nbconvert_exporter": "python",
   "pygments_lexer": "ipython3",
   "version": "3.5.2"
  }
 },
 "nbformat": 4,
 "nbformat_minor": 2
}
