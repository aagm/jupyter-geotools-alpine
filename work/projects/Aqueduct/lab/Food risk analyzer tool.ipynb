{
 "cells": [
  {
   "cell_type": "markdown",
   "metadata": {},
   "source": [
    "# **Food risk analyzer tool**"
   ]
  },
  {
   "cell_type": "markdown",
   "metadata": {},
   "source": [
    "### Ifript food\n",
    "\n",
    "|  |  status\n",
    "|:----------------------:\t|:-------------:\t\n",
    "| geographical coverage: | global\n",
    "| geographical resolution: | Country\n",
    "| temporal range: | 2005-2045\n",
    "| temporal resolution: | yearly\n",
    "\n",
    "    \n",
    "|        indicator       \t| Crop coverage \t|\n",
    "|:----------------------:\t|:-------------:\t|\n",
    "|     Kcal per capita    \t|       -       \t|\n",
    "|          Yield         \t|      all      \t|\n",
    "| Pop. at risk of hunger \t|       -       \t|\n",
    "|          Area          \t|      all      \t|\n",
    "|       World price      \t|      all      \t|\n",
    "|       Production       \t|      all      \t|\n",
    "|        Net trade       \t|      all      \t|\n",
    "|       Food Demand      \t|      all      \t|"
   ]
  },
  {
   "cell_type": "markdown",
   "metadata": {},
   "source": [
    "### Water risk atlas:\n",
    "\n",
    "|  |  status\n",
    "|:----------------------:\t|:-------------:\t\n",
    "| geographical coverage: | global\n",
    "| geographical resolution: | Country / Subcatchement\n",
    "| temporal range: | 2014, 2020-2040\n",
    "| temporal resolution: | decade  \n",
    "\n",
    "|        indicator       \t        | Crop coverage \t|\n",
    "|:----------------------:\t        |:-------------:\t|\n",
    "| Baseline water stress    \t        |       -       \t|\n",
    "| Drought Severity Soil Moisture    |      all      \t|\n",
    "| Drought Severity Streamflow \t    |       -       \t|\n",
    "| Environmental Flows               |      all      \t|\n",
    "| Inter Annual Variability          |      all      \t|\n",
    "| Seasonal Variability     \t        |      all      \t|\n",
    "| Water demand              \t    |      all      \t|\n",
    "| Groundwater stress      \t        |      all      \t|\n",
    "| groundwater table declining trend |      all      \t|\n",
    "| Risk to rainfed Agriculture (precipitation derived) |  |\n"
   ]
  },
  {
   "cell_type": "markdown",
   "metadata": {},
   "source": [
    "  * Crop list:  \n",
    "    Banana, Barley, Beans, Cassava, All Cereals, Chickpeas, Cowpeas, Groundnut, Lentils, Maize, Millet, Pigeonpeas, Plantain, Potato, All Pulses, Rice, Sorghum, Soybean, Sweet Potato, Wheat, Yams"
   ]
  },
  {
   "cell_type": "markdown",
   "metadata": {},
   "source": [
    "## Data management \n",
    "Data location: Carto  \n",
    "Account: wri-01  \n",
    "Filter tables by tag ```:aqueduct```\n",
    "\n",
    "|table name | indicator family | Table size\n",
    "|:----------------------:\t|:-------------: |:-------------:\n",
    "| water_risk_data  | water risk | \n",
    "| crops_location | crops\n",
    "| crops | crops\n",
    "| combined01_prepared | ifript"
   ]
  },
  {
   "cell_type": "markdown",
   "metadata": {},
   "source": [
    "### Configurations and imports"
   ]
  },
  {
   "cell_type": "code",
   "execution_count": 1,
   "metadata": {
    "collapsed": true
   },
   "outputs": [],
   "source": [
    "%matplotlib inline"
   ]
  },
  {
   "cell_type": "code",
   "execution_count": 2,
   "metadata": {
    "collapsed": false,
    "scrolled": true
   },
   "outputs": [],
   "source": [
    "\n",
    "import math\n",
    "import matplotlib\n",
    "import matplotlib.pyplot as plt\n",
    "import numpy as np\n",
    "import rasterio\n",
    "from rasterio.plot import show\n"
   ]
  },
  {
   "cell_type": "code",
   "execution_count": 4,
   "metadata": {
    "collapsed": false
   },
   "outputs": [
    {
     "name": "stdout",
     "output_type": "stream",
     "text": [
      "Requirement already satisfied: version_information in /opt/conda/lib/python3.5/site-packages\r\n"
     ]
    },
    {
     "data": {
      "application/json": {
       "Software versions": [
        {
         "module": "Python",
         "version": "3.5.2 64bit [GCC 4.4.7 20120313 (Red Hat 4.4.7-1)]"
        },
        {
         "module": "IPython",
         "version": "5.2.2"
        },
        {
         "module": "OS",
         "version": "Linux 4.9.8 moby x86_64 with glibc2.2.5"
        },
        {
         "module": "numpy",
         "version": "1.11.3"
        },
        {
         "module": "matplotlib",
         "version": "1.5.3"
        }
       ]
      },
      "text/html": [
       "<table><tr><th>Software</th><th>Version</th></tr><tr><td>Python</td><td>3.5.2 64bit [GCC 4.4.7 20120313 (Red Hat 4.4.7-1)]</td></tr><tr><td>IPython</td><td>5.2.2</td></tr><tr><td>OS</td><td>Linux 4.9.8 moby x86_64 with glibc2.2.5</td></tr><tr><td>numpy</td><td>1.11.3</td></tr><tr><td>matplotlib</td><td>1.5.3</td></tr><tr><td colspan='2'>Sat Feb 18 14:31:30 2017 UTC</td></tr></table>"
      ],
      "text/latex": [
       "\\begin{tabular}{|l|l|}\\hline\n",
       "{\\bf Software} & {\\bf Version} \\\\ \\hline\\hline\n",
       "Python & 3.5.2 64bit [GCC 4.4.7 20120313 (Red Hat 4.4.7-1)] \\\\ \\hline\n",
       "IPython & 5.2.2 \\\\ \\hline\n",
       "OS & Linux 4.9.8 moby x86\\_64 with glibc2.2.5 \\\\ \\hline\n",
       "numpy & 1.11.3 \\\\ \\hline\n",
       "matplotlib & 1.5.3 \\\\ \\hline\n",
       "\\hline \\multicolumn{2}{|l|}{Sat Feb 18 14:31:30 2017 UTC} \\\\ \\hline\n",
       "\\end{tabular}\n"
      ],
      "text/plain": [
       "Software versions\n",
       "Python 3.5.2 64bit [GCC 4.4.7 20120313 (Red Hat 4.4.7-1)]\n",
       "IPython 5.2.2\n",
       "OS Linux 4.9.8 moby x86_64 with glibc2.2.5\n",
       "numpy 1.11.3\n",
       "matplotlib 1.5.3\n",
       "Sat Feb 18 14:31:30 2017 UTC"
      ]
     },
     "execution_count": 4,
     "metadata": {},
     "output_type": "execute_result"
    }
   ],
   "source": [
    "%reload_ext version_information\n",
    "%version_information numpy, matplotlib"
   ]
  },
  {
   "cell_type": "markdown",
   "metadata": {
    "collapsed": false
   },
   "source": [
    "\n",
    "```sql\n",
    "select * from table\n",
    "```\n",
    "\n"
   ]
  },
  {
   "cell_type": "code",
   "execution_count": 6,
   "metadata": {
    "collapsed": false
   },
   "outputs": [
    {
     "ename": "NameError",
     "evalue": "name '_16' is not defined",
     "output_type": "error",
     "traceback": [
      "\u001b[0;31m---------------------------------------------------------------------------\u001b[0m",
      "\u001b[0;31mNameError\u001b[0m                                 Traceback (most recent call last)",
      "\u001b[0;32m<ipython-input-6-0a3c70122a2b>\u001b[0m in \u001b[0;36m<module>\u001b[0;34m()\u001b[0m\n\u001b[0;32m----> 1\u001b[0;31m \u001b[0m_16\u001b[0m\u001b[0;34m\u001b[0m\u001b[0m\n\u001b[0m",
      "\u001b[0;31mNameError\u001b[0m: name '_16' is not defined"
     ]
    }
   ],
   "source": [
    "_16"
   ]
  },
  {
   "cell_type": "code",
   "execution_count": null,
   "metadata": {
    "collapsed": true
   },
   "outputs": [],
   "source": []
  }
 ],
 "metadata": {
  "kernelspec": {
   "display_name": "Python 3",
   "language": "python",
   "name": "python3"
  },
  "language_info": {
   "codemirror_mode": {
    "name": "ipython",
    "version": 3
   },
   "file_extension": ".py",
   "mimetype": "text/x-python",
   "name": "python",
   "nbconvert_exporter": "python",
   "pygments_lexer": "ipython3",
   "version": "3.5.2"
  }
 },
 "nbformat": 4,
 "nbformat_minor": 2
}
