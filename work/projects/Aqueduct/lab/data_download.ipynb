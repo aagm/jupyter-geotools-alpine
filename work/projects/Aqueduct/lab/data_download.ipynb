{
 "cells": [
  {
   "cell_type": "markdown",
   "metadata": {
    "collapsed": true
   },
   "source": [
    "# Spam data download"
   ]
  },
  {
   "cell_type": "markdown",
   "metadata": {
    "collapsed": true
   },
   "source": [
    "This small script will allow csv spam datasets selected with this configuration:  \n",
    "harvested-area_banana_total.csv.gz  \n",
    "to be download to the data sources files for further manipulation"
   ]
  },
  {
   "cell_type": "code",
   "execution_count": 2,
   "metadata": {
    "collapsed": false
   },
   "outputs": [],
   "source": [
    "from tqdm import tqdm\n",
    "import requests"
   ]
  },
  {
   "cell_type": "code",
   "execution_count": 3,
   "metadata": {
    "collapsed": false
   },
   "outputs": [
    {
     "data": {
      "application/json": {
       "Software versions": [
        {
         "module": "Python",
         "version": "3.5.2 64bit [GCC 4.4.7 20120313 (Red Hat 4.4.7-1)]"
        },
        {
         "module": "IPython",
         "version": "5.2.2"
        },
        {
         "module": "OS",
         "version": "Linux 4.9.8 moby x86_64 with glibc2.2.5"
        },
        {
         "module": "tqdm",
         "version": "4.11.2"
        },
        {
         "module": "requests",
         "version": "2.13.0"
        }
       ]
      },
      "text/html": [
       "<table><tr><th>Software</th><th>Version</th></tr><tr><td>Python</td><td>3.5.2 64bit [GCC 4.4.7 20120313 (Red Hat 4.4.7-1)]</td></tr><tr><td>IPython</td><td>5.2.2</td></tr><tr><td>OS</td><td>Linux 4.9.8 moby x86_64 with glibc2.2.5</td></tr><tr><td>tqdm</td><td>4.11.2</td></tr><tr><td>requests</td><td>2.13.0</td></tr><tr><td colspan='2'>Wed Feb 22 16:30:03 2017 UTC</td></tr></table>"
      ],
      "text/latex": [
       "\\begin{tabular}{|l|l|}\\hline\n",
       "{\\bf Software} & {\\bf Version} \\\\ \\hline\\hline\n",
       "Python & 3.5.2 64bit [GCC 4.4.7 20120313 (Red Hat 4.4.7-1)] \\\\ \\hline\n",
       "IPython & 5.2.2 \\\\ \\hline\n",
       "OS & Linux 4.9.8 moby x86\\_64 with glibc2.2.5 \\\\ \\hline\n",
       "tqdm & 4.11.2 \\\\ \\hline\n",
       "requests & 2.13.0 \\\\ \\hline\n",
       "\\hline \\multicolumn{2}{|l|}{Wed Feb 22 16:30:03 2017 UTC} \\\\ \\hline\n",
       "\\end{tabular}\n"
      ],
      "text/plain": [
       "Software versions\n",
       "Python 3.5.2 64bit [GCC 4.4.7 20120313 (Red Hat 4.4.7-1)]\n",
       "IPython 5.2.2\n",
       "OS Linux 4.9.8 moby x86_64 with glibc2.2.5\n",
       "tqdm 4.11.2\n",
       "requests 2.13.0\n",
       "Wed Feb 22 16:30:03 2017 UTC"
      ]
     },
     "execution_count": 3,
     "metadata": {},
     "output_type": "execute_result"
    }
   ],
   "source": [
    "%reload_ext version_information\n",
    "%version_information tqdm, requests"
   ]
  },
  {
   "cell_type": "markdown",
   "metadata": {},
   "source": [
    "#### Configurate variables"
   ]
  },
  {
   "cell_type": "code",
   "execution_count": 4,
   "metadata": {
    "collapsed": true
   },
   "outputs": [],
   "source": [
    "baseUrl = 'http://spam05.harvestchoice.org/v2r0/csv/'\n",
    "fileNameBase = '/home/jovyan/work/data/aqueduct/data_source/spamdata'\n",
    "areas = ['physical-area']\n",
    "crops = ['cereals_other', 'pulses_others', 'banana', 'barley', 'beans', 'cassava', 'chickpeas', 'cowpeas', 'groundnut', 'lentils', 'maize', 'millet', 'pigeonpeas', 'plantain', 'potato', 'rice', 'sorghum', 'soybean', 'sweet_potato', 'wheat', 'yams']  \n",
    "types = ['irrigated','rainfed']"
   ]
  },
  {
   "cell_type": "markdown",
   "metadata": {},
   "source": []
  },
  {
   "cell_type": "code",
   "execution_count": null,
   "metadata": {
    "collapsed": true
   },
   "outputs": [],
   "source": [
    "for typez in xrange(0,len(types)):\n",
    "    for area in xrange(0,len(areas)):\n",
    "        for crop in xrange(0,len(crops)):\n",
    "            dataUrl=baseUrl+areas[area]+'/'+'spam2005v2r0'+'_'+areas[area]+'_'+crops[crop]+'_'+types[typez]+'.csv.gz'\n",
    "            response = requests.get(dataUrl, stream=True)\n",
    "            filename=fileNameBase+areas[area]+'_'+crops[crop]+'_'+types[typez]+'.csv.gz'\n",
    "            print filename\n",
    "            with open(filename, 'wb') as handle:\n",
    "                for chunk in tqdm(response.iter_content(chunk_size=128)):\n",
    "                    handle.write(chunk)"
   ]
  }
 ],
 "metadata": {
  "kernelspec": {
   "display_name": "Python 3",
   "language": "python",
   "name": "python3"
  },
  "language_info": {
   "codemirror_mode": {
    "name": "ipython",
    "version": 3
   },
   "file_extension": ".py",
   "mimetype": "text/x-python",
   "name": "python",
   "nbconvert_exporter": "python",
   "pygments_lexer": "ipython3",
   "version": "3.5.2"
  }
 },
 "nbformat": 4,
 "nbformat_minor": 2
}
