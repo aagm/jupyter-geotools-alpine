{
 "cells": [
  {
   "cell_type": "markdown",
   "metadata": {},
   "source": [
    "# Ifript data management"
   ]
  },
  {
   "cell_type": "raw",
   "metadata": {},
   "source": [
    "Project configuration"
   ]
  },
  {
   "cell_type": "code",
   "execution_count": 77,
   "metadata": {
    "collapsed": false
   },
   "outputs": [],
   "source": [
    "%matplotlib inline"
   ]
  },
  {
   "cell_type": "markdown",
   "metadata": {},
   "source": [
    "for console comments..."
   ]
  },
  {
   "cell_type": "code",
   "execution_count": 78,
   "metadata": {
    "collapsed": true
   },
   "outputs": [],
   "source": [
    "class bcolors:\n",
    "    OKBLUE = '\\033[94m'\n",
    "    OKGREEN = '\\033[92m'\n",
    "    WARNING = '\\033[93m'\n",
    "    ENDC = '\\033[0m'\n",
    "    UNDERLINE = '\\033[4m'"
   ]
  },
  {
   "cell_type": "code",
   "execution_count": 2,
   "metadata": {
    "collapsed": false
   },
   "outputs": [],
   "source": [
    "import os, fnmatch, zipfile, shutil, sys\n",
    "import pandas as pd, re\n"
   ]
  },
  {
   "cell_type": "code",
   "execution_count": 3,
   "metadata": {
    "collapsed": false
   },
   "outputs": [
    {
     "data": {
      "application/json": {
       "Software versions": [
        {
         "module": "Python",
         "version": "3.5.2 64bit [GCC 4.4.7 20120313 (Red Hat 4.4.7-1)]"
        },
        {
         "module": "IPython",
         "version": "5.2.2"
        },
        {
         "module": "OS",
         "version": "Linux 4.9.8 moby x86_64 with glibc2.2.5"
        },
        {
         "module": "pandas",
         "version": "0.19.2"
        },
        {
         "module": "re",
         "version": "2.2.1"
        }
       ]
      },
      "text/html": [
       "<table><tr><th>Software</th><th>Version</th></tr><tr><td>Python</td><td>3.5.2 64bit [GCC 4.4.7 20120313 (Red Hat 4.4.7-1)]</td></tr><tr><td>IPython</td><td>5.2.2</td></tr><tr><td>OS</td><td>Linux 4.9.8 moby x86_64 with glibc2.2.5</td></tr><tr><td>pandas</td><td>0.19.2</td></tr><tr><td>re</td><td>2.2.1</td></tr><tr><td colspan='2'>Tue Feb 21 22:01:57 2017 UTC</td></tr></table>"
      ],
      "text/latex": [
       "\\begin{tabular}{|l|l|}\\hline\n",
       "{\\bf Software} & {\\bf Version} \\\\ \\hline\\hline\n",
       "Python & 3.5.2 64bit [GCC 4.4.7 20120313 (Red Hat 4.4.7-1)] \\\\ \\hline\n",
       "IPython & 5.2.2 \\\\ \\hline\n",
       "OS & Linux 4.9.8 moby x86\\_64 with glibc2.2.5 \\\\ \\hline\n",
       "pandas & 0.19.2 \\\\ \\hline\n",
       "re & 2.2.1 \\\\ \\hline\n",
       "\\hline \\multicolumn{2}{|l|}{Tue Feb 21 22:01:57 2017 UTC} \\\\ \\hline\n",
       "\\end{tabular}\n"
      ],
      "text/plain": [
       "Software versions\n",
       "Python 3.5.2 64bit [GCC 4.4.7 20120313 (Red Hat 4.4.7-1)]\n",
       "IPython 5.2.2\n",
       "OS Linux 4.9.8 moby x86_64 with glibc2.2.5\n",
       "pandas 0.19.2\n",
       "re 2.2.1\n",
       "Tue Feb 21 22:01:57 2017 UTC"
      ]
     },
     "execution_count": 3,
     "metadata": {},
     "output_type": "execute_result"
    }
   ],
   "source": [
    "%reload_ext version_information\n",
    "%version_information pandas, re"
   ]
  },
  {
   "cell_type": "markdown",
   "metadata": {},
   "source": [
    "Initialize the variables used."
   ]
  },
  {
   "cell_type": "code",
   "execution_count": 81,
   "metadata": {
    "collapsed": false
   },
   "outputs": [],
   "source": [
    "inDataset=[]\n",
    "columns_out =['commodity', 'gcm_type', 'impactparameter', 'iso', 'irrigation', 'region', 'scenario', 'value', 'year']\n"
   ]
  },
  {
   "cell_type": "code",
   "execution_count": 82,
   "metadata": {
    "collapsed": false
   },
   "outputs": [],
   "source": [
    "def main(cwd, dirOut, sysargv):\n",
    "    ensure_dir(cwd+\"/dst/\")\n",
    "    dataList = find_files(cwd, sysargv)\n",
    "    print(dataList)\n",
    "    print(bcolors.OKBLUE + 'crops' + bcolors.ENDC)\n",
    "    writeIndicator('combined_prepared', dataList, dirOut)\n",
    "    print(bcolors.OKGREEN+bcolors.UNDERLINE+'Done, EXIT'+ bcolors.ENDC)"
   ]
  },
  {
   "cell_type": "code",
   "execution_count": 83,
   "metadata": {
    "collapsed": true
   },
   "outputs": [],
   "source": [
    "def ensure_dir(f):\n",
    "    d = os.path.dirname(f)\n",
    "    if not os.path.exists(d):\n",
    "        os.mkdir(d)"
   ]
  },
  {
   "cell_type": "code",
   "execution_count": 84,
   "metadata": {
    "collapsed": true
   },
   "outputs": [],
   "source": [
    "def find_files(directory, name):\n",
    "    for root, dirs, files in os.walk(directory):\n",
    "        for basename in files:\n",
    "            if fnmatch.fnmatch(basename, name):\n",
    "                filesource = os.path.join(root, basename)\n",
    "                base_prnt = (basename.rsplit('.')[0]).rsplit('_')\n",
    "                item = {'filePath': filesource, 'indicator':base_prnt[0].lower()}\n",
    "                if len(item) > 0:\n",
    "                    inDataset.append(item)\n",
    "    return inDataset"
   ]
  },
  {
   "cell_type": "code",
   "execution_count": 85,
   "metadata": {
    "collapsed": false
   },
   "outputs": [],
   "source": [
    "def writeIndicator(indicatorName, inDatas, dirOut):\n",
    "    frames = []\n",
    "    outData = dirOut + indicatorName +'.csv'\n",
    "    for data in inDatas:\n",
    "        print(data['indicator'])\n",
    "        x = openXls(data['filePath'], data['indicator'])\n",
    "        frames.append(x)\n",
    "    f= pd.concat(frames)\n",
    "    f.to_csv(outData)\n",
    "    print(bcolors.OKGREEN + \"SUCCESS\" + bcolors.ENDC)"
   ]
  },
  {
   "cell_type": "code",
   "execution_count": 86,
   "metadata": {
    "collapsed": true
   },
   "outputs": [],
   "source": [
    "def openXls(filePath, indicator):\n",
    "    with pd.ExcelFile(filePath) as xls:\n",
    "        data = pd.read_excel(xls, 0)\n",
    "        data.rename(columns={'impactparameter': 'impactparameter', 'scenario': 'scenario', 'commodity':'commodity', 'region':'region', 'productiontype':'irrigation', 'year':'year', 'Value':'value'}, inplace=True)\n",
    "        data[\"gcm_type\"]=indicator\n",
    "        data[\"iso\"]=None\n",
    "        response = pd.DataFrame(data, columns=columns_out)\n",
    "        return response"
   ]
  },
  {
   "cell_type": "markdown",
   "metadata": {},
   "source": [
    "```python\n",
    "# party time\n",
    "if __name__ == \"__main__\":\n",
    "\n",
    "    # check for correct args: data location\n",
    "    if len(sys.argv) < 4:\n",
    "        print \"python main.py 'dirIn' 'dirOut' '*.xlsx'\"\n",
    "        exit()\n",
    "\n",
    "    if os.path.exists(sys.argv[2]):\n",
    "        shutil.rmtree(sys.argv[2])\n",
    "\n",
    "    main(sys.argv[1], sys.argv[2], sys.argv[3])\n",
    "```\n"
   ]
  },
  {
   "cell_type": "code",
   "execution_count": 87,
   "metadata": {
    "collapsed": false
   },
   "outputs": [
    {
     "name": "stdout",
     "output_type": "stream",
     "text": [
      "[{'indicator': 'gfdl', 'filePath': '/home/jovyan/work/data/aqueduct/data_source/compose_country_crops/gfdl_all.xlsx'}, {'indicator': 'hgem', 'filePath': '/home/jovyan/work/data/aqueduct/data_source/compose_country_crops/hgem_all.xlsx'}, {'indicator': 'ipsl', 'filePath': '/home/jovyan/work/data/aqueduct/data_source/compose_country_crops/ipsl_all.xlsx'}, {'indicator': 'miro', 'filePath': '/home/jovyan/work/data/aqueduct/data_source/compose_country_crops/miro_all.xlsx'}, {'indicator': 'nocc', 'filePath': '/home/jovyan/work/data/aqueduct/data_source/compose_country_crops/NoCC_all.xlsx'}]\n",
      "\u001b[94mcrops\u001b[0m\n",
      "gfdl\n",
      "hgem\n",
      "ipsl\n",
      "miro\n",
      "nocc\n",
      "\u001b[92mSUCCESS\u001b[0m\n",
      "\u001b[92m\u001b[4mDone, EXIT\u001b[0m\n"
     ]
    }
   ],
   "source": [
    "main('/home/jovyan/work/data/aqueduct/data_source/compose_country_crops','/home/jovyan/work/data/aqueduct/dst/', '*.xlsx')"
   ]
  }
 ],
 "metadata": {
  "kernelspec": {
   "display_name": "Python 3",
   "language": "python",
   "name": "python3"
  },
  "language_info": {
   "codemirror_mode": {
    "name": "ipython",
    "version": 3
   },
   "file_extension": ".py",
   "mimetype": "text/x-python",
   "name": "python",
   "nbconvert_exporter": "python",
   "pygments_lexer": "ipython3",
   "version": "3.5.2"
  }
 },
 "nbformat": 4,
 "nbformat_minor": 2
}
