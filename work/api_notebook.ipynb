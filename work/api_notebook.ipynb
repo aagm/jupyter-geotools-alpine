{
 "cells": [
  {
   "cell_type": "markdown",
   "metadata": {
    "urth": {
     "dashboard": {
      "layout": {
       "col": 0,
       "height": 2,
       "row": 0,
       "width": 12
      }
     }
    },
    "urth_section": {
     "id": "1",
     "layout": "vertical"
    }
   },
   "source": [
    "# Text Summarization Service"
   ]
  },
  {
   "cell_type": "markdown",
   "metadata": {
    "urth": {
     "dashboard": {
      "hidden": true
     }
    }
   },
   "source": [
    "This notebook is meant to demonstrate the transformation of an annotated notebook into a HTTP API using the Jupyter kernel gateway. We will expose a simple text summarization endpoint to the Resource Watch API Control Tower.\n",
    "\n",
    "We will need this stuff for processing requests and handling json data:"
   ]
  },
  {
   "cell_type": "code",
   "execution_count": null,
   "metadata": {
    "collapsed": false,
    "urth": {
     "dashboard": {
      "hidden": true
     }
    },
    "urth_section": {}
   },
   "outputs": [],
   "source": [
    "import requests\n",
    "import json"
   ]
  },
  {
   "cell_type": "markdown",
   "metadata": {
    "urth": {
     "dashboard": {
      "hidden": true
     }
    },
    "urth_section": {}
   },
   "source": [
    "And we will also use gensim, a high level NLP library:"
   ]
  },
  {
   "cell_type": "code",
   "execution_count": null,
   "metadata": {
    "collapsed": false
   },
   "outputs": [],
   "source": [
    "from gensim.summarization import summarize\n",
    "from gensim.summarization import keywords"
   ]
  },
  {
   "cell_type": "markdown",
   "metadata": {},
   "source": [
    "Our goals are modest for this example, so we will implement just two endpoints: summarize and keywords. Both expect a `text` field in the request body with the text to be processed.\n",
    "\n",
    "## API\n",
    "\n",
    "First we'll declare what a REQUEST looks like, so we can develop the service easily:"
   ]
  },
  {
   "cell_type": "code",
   "execution_count": null,
   "metadata": {
    "collapsed": false
   },
   "outputs": [],
   "source": [
    "REQUEST =  json.dumps(\n",
    "    {\n",
    "        'path': {},\n",
    "        'headers': {\n",
    "            'Cache-Control': 'no-cache',\n",
    "            'Content-Length': '1834',\n",
    "            'Postman-Token': '012295ac-0273-4994-a78e-112742f0468f',\n",
    "            'Content-Type': 'multipart/form-data;boundary=--------------------------492240627376624783967489',\n",
    "            'Accept': '*/*', \n",
    "            'User-Agent': 'PostmanRuntime/3.0.9',\n",
    "            'Accept-Encoding': 'gzip, deflate',\n",
    "            'Connection': 'keep-alive',\n",
    "            'Host': '192.168.1.124:8889'\n",
    "        },\n",
    "        'body': {\n",
    "            'text': ['President Trump signed an executive order on Friday that purports to bar for at least 90 days almost all permanent immigration from seven majority-Muslim countries, including Syria and Iraq, and asserts the power to extend the ban indefinitely. But the order is illegal. More than 50 years ago, Congress outlawed such discrimination against immigrants based on national origin. That decision came after a long and shameful history in this country of barring immigrants based on where they came from. Starting in the late 19th century, laws excluded all Chinese, almost all Japanese, then all Asians in the so-called Asiatic Barred Zone. Finally, in 1924, Congress created a comprehensive “national-origins system,” skewing immigration quotas to benefit Western Europeans and to exclude most Eastern Europeans, almost all Asians, and Africans. Mr. Trump appears to want to reinstate a new type of Asiatic Barred Zone by executive order, but there is just one problem: The Immigration and Nationality Act of 1965 banned all discrimination against immigrants on the basis of national origin, replacing the old prejudicial system and giving each country an equal shot at the quotas. In signing the new law, President Lyndon B. Johnson said that “the harsh injustice” of the national-origins quota system had been “abolished.” Protesters near the White House on Wednesday. Credit Al Drago/The New York Times Nonetheless, Mr. Trump asserts that he still has the power to discriminate, pointing to a 1952 law that allows the president the ability to “suspend the entry” of “any class of aliens” that he finds are detrimental to the interest of the United States.']\n",
    "        },\n",
    "        'args': {}\n",
    "    })"
   ]
  },
  {
   "cell_type": "markdown",
   "metadata": {},
   "source": [
    "Let's move onto declaring endpoints. The jupyter notebook gateway service declares endpoints in cells with a simple DSL, commenting the first cell like in the following example. You just have to `print()` a response. Adhere to jsonapi standards!"
   ]
  },
  {
   "cell_type": "code",
   "execution_count": null,
   "metadata": {
    "collapsed": false
   },
   "outputs": [],
   "source": [
    "# POST /summarize\n",
    "request = json.loads(REQUEST)\n",
    "response = summarize(request['body']['text'][0])\n",
    "print(json.dumps({\n",
    "    \"data\": [{\n",
    "        \"summary\": response.split(\"\\n\")\n",
    "    }]\n",
    "    })\n",
    ")"
   ]
  },
  {
   "cell_type": "markdown",
   "metadata": {},
   "source": [
    "Headers go on a separate companion cell"
   ]
  },
  {
   "cell_type": "code",
   "execution_count": null,
   "metadata": {
    "collapsed": false
   },
   "outputs": [],
   "source": [
    "# ResponseInfo POST /summarize\n",
    "print(\n",
    "    json.dumps({\n",
    "        \"headers\" : {\n",
    "            \"Content-Type\" : \"application/json\"\n",
    "        },\n",
    "        \"status\" : 201\n",
    "    })\n",
    ")"
   ]
  },
  {
   "cell_type": "markdown",
   "metadata": {},
   "source": [
    "The keywords endpoint is too easy to implement with gensim:"
   ]
  },
  {
   "cell_type": "code",
   "execution_count": null,
   "metadata": {
    "collapsed": false
   },
   "outputs": [],
   "source": [
    "# POST /keywords\n",
    "request = json.loads(REQUEST)\n",
    "response = keywords(request['body']['text'][0])\n",
    "print(json.dumps({\n",
    "    \"data\": [{\n",
    "        \"keywords\": response.split(\"\\n\")\n",
    "    }]\n",
    "    })\n",
    ")"
   ]
  },
  {
   "cell_type": "code",
   "execution_count": null,
   "metadata": {
    "collapsed": false
   },
   "outputs": [],
   "source": [
    "# ResponseInfo POST /keywords\n",
    "print(\n",
    "    json.dumps({\n",
    "        \"headers\" : {\n",
    "        \"Content-Type\" : \"application/json\"\n",
    "    },\n",
    "    \"status\" : 201\n",
    "    })\n",
    ")"
   ]
  },
  {
   "cell_type": "markdown",
   "metadata": {},
   "source": [
    "Some helper endpoints. This one mirrors the request. Useful for debugging."
   ]
  },
  {
   "cell_type": "code",
   "execution_count": null,
   "metadata": {
    "collapsed": false
   },
   "outputs": [],
   "source": [
    "# POST /mirror\n",
    "request = json.loads(REQUEST)\n",
    "print(json.dumps(request))"
   ]
  },
  {
   "cell_type": "code",
   "execution_count": null,
   "metadata": {
    "collapsed": false
   },
   "outputs": [],
   "source": [
    "# ResponseInfo POST /mirror\n",
    "print(\n",
    "    json.dumps({\n",
    "        \"headers\" : {\n",
    "        \"Content-Type\" : \"application/json\"\n",
    "    },\n",
    "    \"status\" : 201\n",
    "    })\n",
    ")"
   ]
  },
  {
   "cell_type": "markdown",
   "metadata": {},
   "source": [
    "Also, we'll need to register the microservice with Control Tower! A ping endpoint is easy."
   ]
  },
  {
   "cell_type": "code",
   "execution_count": null,
   "metadata": {
    "collapsed": false
   },
   "outputs": [],
   "source": [
    "# GET /ping\n",
    "pong = {\"ping\": \"pong\"}\n",
    "print(json.dumps(pong))"
   ]
  },
  {
   "cell_type": "code",
   "execution_count": null,
   "metadata": {
    "collapsed": false
   },
   "outputs": [],
   "source": [
    "# ResponseInfo GET /ping\n",
    "print(\n",
    "    json.dumps({\n",
    "        \"headers\" : {\n",
    "        \"Content-Type\" : \"application/json\"\n",
    "    },\n",
    "    \"status\" : 200\n",
    "    })\n",
    ")"
   ]
  },
  {
   "cell_type": "markdown",
   "metadata": {},
   "source": [
    "Also, an `/info` endpoint"
   ]
  },
  {
   "cell_type": "code",
   "execution_count": null,
   "metadata": {
    "collapsed": true
   },
   "outputs": [],
   "source": [
    "# GET /info\n"
   ]
  },
  {
   "cell_type": "code",
   "execution_count": null,
   "metadata": {
    "collapsed": true
   },
   "outputs": [],
   "source": []
  }
 ],
 "metadata": {
  "kernelspec": {
   "display_name": "Python 3",
   "language": "python",
   "name": "python3"
  },
  "language_info": {
   "codemirror_mode": {
    "name": "ipython",
    "version": 3
   },
   "file_extension": ".py",
   "mimetype": "text/x-python",
   "name": "python",
   "nbconvert_exporter": "python",
   "pygments_lexer": "ipython3",
   "version": "3.5.2"
  },
  "urth": {
   "dashboard": {
    "cellMargin": 10,
    "defaultCellHeight": 20,
    "maxColumns": 12
   }
  }
 },
 "nbformat": 4,
 "nbformat_minor": 0
}
